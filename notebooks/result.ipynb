{
 "cells": [
  {
   "cell_type": "code",
   "execution_count": 2,
   "id": "antique-scene",
   "metadata": {},
   "outputs": [],
   "source": [
    "import pandas as pd\n",
    "from matplotlib import pyplot as plt\n",
    "\n",
    "import numpy as np\n",
    "\n",
    "door1 = pd.read_csv(\"data/data_door1.txt\",  sep=\";\", header=None)\n",
    "door1 = door1.set_axis([\"Timestamp\", \"x\", \"y\", \"z\", \"pressure\"], axis=1, inplace=False)\n"
   ]
  },
  {
   "cell_type": "code",
   "execution_count": 3,
   "id": "numerical-richards",
   "metadata": {},
   "outputs": [],
   "source": [
    "def calculateMedian(i, variable, size):        \n",
    "    start = max(i - size, 0) \n",
    "    end = min(i, len(variable)) \n",
    "\n",
    "    calculate_median = variable[start:end]\n",
    "    calculate_median.sort()\n",
    "    if(len(calculate_median) > 0): median = calculate_median[len(calculate_median)//2]\n",
    "    else: median = variable[i]\n",
    "        \n",
    "    return median\n",
    "\n",
    "def rolling_media(i, variable, size, variableMedian):\n",
    "    median = calculateMedian(i, variable, size)\n",
    "    variableMedian.append(median)\n",
    "    \n",
    "def cummulative_sum(i, variableMedian, gMax, gMin, drift):\n",
    "        s_i = variableMedian[i] - variableMedian[i-1]\n",
    "        gMax_i = max(gMax[i-1] + s_i - drift, 0)\n",
    "        gMin_i = max(gMin[i-1] - s_i - drift, 0)\n",
    "        gMax.append(gMax_i)\n",
    "        gMin.append(gMax_i)\n",
    "                \n",
    "        return gMax_i, gMin_i"
   ]
  },
  {
   "cell_type": "code",
   "execution_count": 4,
   "id": "minus-wilderness",
   "metadata": {},
   "outputs": [],
   "source": [
    "x = list(door1.x)\n",
    "z = list(door1.z)\n",
    "y = list(door1.y)\n",
    "\n",
    "### MEDIAN values #####\n",
    "\n",
    "windowSize = 100                # Size of the median window\n",
    "x_median = list()   # median stored\n",
    "z_median = list()\n",
    "y_median = list()\n",
    "\n",
    "#### CUSUM values #####\n",
    "\n",
    "x_drift = 0.07              # drift: CUSUM parameter\n",
    "x_threshold = 0.01          # threshold: CUSUM parameter\n",
    "z_drift = 0.07\n",
    "z_threshold = 0.03\n",
    "\n",
    "x_alarms = list()           # Points where a movement change is detected\n",
    "x_opening = list()          # Points when an upward movement is detected\n",
    "x_closing = list()          # Points when an downward movement is detected\n",
    "z_alarms = list()           \n",
    "z_opening = list()          \n",
    "z_closing = list()   \n",
    "            \n",
    "x_gMax = list([0]) # internal variables for CUSUM\n",
    "x_gMin = list([0])\n",
    "z_gMax = list([0])\n",
    "z_gMin = list([0])\n",
    "\n",
    "\n",
    "### STEP Detection ####\n",
    "\n",
    "#alarmDetected = False\n",
    "alarmInterval = 10             # Alarms closer than this will be considerated consecutive\n",
    "x_alarmCounter = 0               # Counter of consecutive alarms\n",
    "x_change = list()                # Cumulative alarms\n",
    "z_alarmCounter = 0               \n",
    "z_change = list()                \n",
    "\n",
    "\n",
    "x_closingDetected = False\n",
    "x_openingDetected = False\n",
    "x_lastAlarm = -1                 # Index of last alarm\n",
    "z_closingDetected = False\n",
    "z_openingDetected = False\n",
    "z_lastAlarm = -1                 \n",
    "\n",
    "\n",
    "### Slope ponderation ####\n",
    "\n",
    "x_slope = list([0])              # Storing slope\n",
    "z_slope = list([0])              # Storing slope\n",
    "\n"
   ]
  },
  {
   "cell_type": "code",
   "execution_count": 5,
   "id": "provincial-ideal",
   "metadata": {},
   "outputs": [],
   "source": [
    "for i in range(0, 5000):\n",
    "    \n",
    "    ### MEDIAN calculation #####\n",
    "    # Calculate median of raw data     \n",
    "    rolling_media(i, x, windowSize, x_median)\n",
    "    rolling_media(i, z, windowSize, z_median)\n",
    "\n",
    "    ###### CUSUM intervals #####\n",
    "    # Detect growing and decreasing tendences on the median,\n",
    "    # Results in a list of indexes of changes\n",
    "    if(i != 0): \n",
    "        x_gMax_i, x_gMin_i = cummulative_sum(i, x_median, x_gMax, x_gMin, x_drift)\n",
    "        \n",
    "        x_alarmDetected = x_gMax_i > x_threshold or x_gMin_i > x_threshold\n",
    "        if(x_alarmDetected): x_alarms.append(i)\n",
    "\n",
    "        x_openingDetected = x_gMax_i > x_threshold\n",
    "        if(x_openingDetected): x_opening.append(i)\n",
    "\n",
    "        x_closingDetected = x_gMin_i > x_threshold\n",
    "        if(x_closingDetected): x_closing.append(i)   \n",
    "            \n",
    "            \n",
    "        z_gMax_i, z_gMin_i = cummulative_sum(i, z_median, z_gMax, z_gMin, z_drift)\n",
    "        \n",
    "        z_alarmDetected = z_gMax_i > z_threshold or z_gMin_i > z_threshold\n",
    "        if(z_alarmDetected): z_alarms.append(i)\n",
    "\n",
    "        z_openingDetected = z_gMax_i > z_threshold\n",
    "        if(z_openingDetected): z_opening.append(i)\n",
    "\n",
    "        z_closingDetected = z_gMin_i > z_threshold\n",
    "        if(z_closingDetected): z_closing.append(i)  \n",
    "\n",
    "    ### Slope ponderation ####\n",
    "    # Calculate the slope of the median to ponderate with the added value in case \n",
    "    # of positive alarm. Helps define the intervals with more precision, solve errors\n",
    "    # in definition and provides an aproximation of speed\n",
    "    \n",
    "    # (fun(i) - fun(j) / (i-j)) # i-j is constant, j = i - 1\n",
    "    if(i != 0): \n",
    "        x_slope.append(x_median[i] - x_median[i-1])\n",
    "        z_slope.append(z_median[i] - z_median[i-1])\n",
    "        \n",
    "    \n",
    "    #### Step Detection #####\n",
    "    # Apply ponderation an calculate cumulative movement\n",
    "    \n",
    "    if(x_openingDetected or x_closingDetected):\n",
    "        x_alarmCounter += (1 * x_slope[i])\n",
    "        x_lastAlarm = i   \n",
    "    elif(x_lastAlarm > i - alarmInterval):  # Interval exceded\n",
    "        x_alarmCounter += (1 * x_slope[i])\n",
    "    else:\n",
    "        x_alarmCounter = 0 \n",
    "    x_change.append(x_alarmCounter)\n",
    "    \n",
    "    if(z_openingDetected or z_closingDetected):\n",
    "        z_alarmCounter += (1 * z_slope[i])\n",
    "        z_lastAlarm = i   \n",
    "    elif(z_lastAlarm > i - alarmInterval):  # Interval exceded\n",
    "        z_alarmCounter += (1 * z_slope[i])\n",
    "    else:\n",
    "        z_alarmCounter = 0 \n",
    "    z_change.append(z_alarmCounter)\n",
    "    "
   ]
  },
  {
   "cell_type": "markdown",
   "id": "athletic-helmet",
   "metadata": {},
   "source": [
    "### TESTS"
   ]
  },
  {
   "cell_type": "code",
   "execution_count": 6,
   "id": "assigned-weekend",
   "metadata": {},
   "outputs": [
    {
     "data": {
      "image/png": "[encoded data removed]",
      "text/plain": [
       "<Figure size 432x288 with 1 Axes>"
      ]
     },
     "metadata": {
      "needs_background": "light"
     },
     "output_type": "display_data"
    },
    {
     "data": {
      "text/plain": [
       "[<matplotlib.lines.Line2D at 0x7fb4085be3d0>]"
      ]
     },
     "execution_count": 6,
     "metadata": {},
     "output_type": "execute_result"
    },
    {
     "data": {
      "image/png": "[encoded data removed]",
      "text/plain": [
       "<Figure size 432x288 with 1 Axes>"
      ]
     },
     "metadata": {
      "needs_background": "light"
     },
     "output_type": "display_data"
    }
   ],
   "source": [
    "# Alarms detected with median\n",
    "for i in x_closing:\n",
    "    plt.axvline(x=i, color='red', linestyle='-')\n",
    "for i in x_opening:\n",
    "    plt.axvline(x=i, color='green', linestyle='-')\n",
    "\n",
    "plt.plot(x_median[0:50000], color=\"blue\")\n",
    "\n",
    "plt.show()\n",
    "\n",
    "for i in z_closing:\n",
    "    plt.axvline(x=i, color='red', linestyle='-')\n",
    "for i in z_opening:\n",
    "    plt.axvline(x=i, color='green', linestyle='-')\n",
    "\n",
    "plt.plot(z_median[0:50000], color=\"blue\")"
   ]
  },
  {
   "cell_type": "code",
   "execution_count": 7,
   "id": "serious-wells",
   "metadata": {},
   "outputs": [
    {
     "data": {
      "image/png": "[encoded data removed]",
      "text/plain": [
       "<Figure size 432x288 with 1 Axes>"
      ]
     },
     "metadata": {
      "needs_background": "light"
     },
     "output_type": "display_data"
    },
    {
     "data": {
      "text/plain": [
       "[<matplotlib.lines.Line2D at 0x7fb42b7e16a0>]"
      ]
     },
     "execution_count": 7,
     "metadata": {},
     "output_type": "execute_result"
    },
    {
     "data": {
      "image/png": "[encoded data removed]",
      "text/plain": [
       "<Figure size 432x288 with 1 Axes>"
      ]
     },
     "metadata": {
      "needs_background": "light"
     },
     "output_type": "display_data"
    }
   ],
   "source": [
    "plt.plot(x_median[0:5000], color=\"blue\")\n",
    "plt.plot(x_change[0:5000], color=\"red\")\n",
    "\n",
    "plt.show()\n",
    "\n",
    "plt.plot(z_median[0:5000], color=\"blue\")\n",
    "plt.plot(z_change[0:5000], color=\"red\")"
   ]
  },
  {
   "cell_type": "code",
   "execution_count": 8,
   "id": "green-mixture",
   "metadata": {},
   "outputs": [
    {
     "data": {
      "image/png": "[encoded data removed]",
      "text/plain": [
       "<Figure size 432x288 with 1 Axes>"
      ]
     },
     "metadata": {
      "needs_background": "light"
     },
     "output_type": "display_data"
    },
    {
     "data": {
      "text/plain": [
       "[<matplotlib.lines.Line2D at 0x7fb3b1d4f9a0>]"
      ]
     },
     "execution_count": 8,
     "metadata": {},
     "output_type": "execute_result"
    },
    {
     "data": {
      "image/png": "[encoded data removed]",
      "text/plain": [
       "<Figure size 432x288 with 1 Axes>"
      ]
     },
     "metadata": {
      "needs_background": "light"
     },
     "output_type": "display_data"
    }
   ],
   "source": [
    "for i in x_alarms:\n",
    "    if(i > 3000 and i < 5000):\n",
    "        plt.axvline(x=i-3000, color='red', linestyle='-')\n",
    "plt.plot(x_median[3000:5000], color=\"blue\")\n",
    "plt.plot(x_change[3000:5000], color=\"green\")\n",
    "\n",
    "plt.show()\n",
    "\n",
    "for i in z_alarms:\n",
    "    if(i > 3000 and i < 5000):\n",
    "        plt.axvline(x=i-3000, color='red', linestyle='-')\n",
    "plt.plot(z_median[3000:5000], color=\"blue\")\n",
    "plt.plot(z_change[3000:5000], color=\"green\")"
   ]
  }
 ],
 "metadata": {
  "kernelspec": {
   "display_name": "Python 3",
   "language": "python",
   "name": "python3"
  },
  "language_info": {
   "codemirror_mode": {
    "name": "ipython",
    "version": 3
   },
   "file_extension": ".py",
   "mimetype": "text/x-python",
   "name": "python",
   "nbconvert_exporter": "python",
   "pygments_lexer": "ipython3",
   "version": "3.8.5"
  }
 },
 "nbformat": 4,
 "nbformat_minor": 5
}
