{
 "cells": [
  {
   "cell_type": "code",
   "execution_count": 1,
   "id": "antique-scene",
   "metadata": {},
   "outputs": [],
   "source": [
    "import pandas as pd\n",
    "from matplotlib import pyplot as plt\n",
    "\n",
    "import numpy as np\n",
    "\n",
    "door1 = pd.read_csv(\"data/data_door1.txt\",  sep=\";\", header=None)\n",
    "door1 = door1.set_axis([\"Timestamp\", \"x\", \"y\", \"z\", \"pressure\"], axis=1, inplace=False)\n"
   ]
  },
  {
   "cell_type": "code",
   "execution_count": 2,
   "id": "numerical-richards",
   "metadata": {},
   "outputs": [],
   "source": [
    "def calculateMedian(i, variable, size):        \n",
    "    start = max(i - size, 0) \n",
    "    end = min(i, len(variable)) \n",
    "\n",
    "    calculate_median = variable[start:end]\n",
    "    calculate_median.sort()\n",
    "    if(len(calculate_median) > 0): median = calculate_median[len(calculate_median)//2]\n",
    "    else: median = variable[i]\n",
    "        \n",
    "    return median\n",
    "\n",
    "def rolling_media(i, variable, size, variableMedian):\n",
    "    median = calculateMedian(i, variable, size)\n",
    "    variableMedian.append(median)\n",
    "    \n",
    "def cummulative_sum(i, variableMedian, gMax, gMin, drift):\n",
    "        s_i = variableMedian[i] - variableMedian[i-1]\n",
    "        gMax_i = max(gMax[i-1] + s_i - drift, 0)\n",
    "        gMin_i = max(gMin[i-1] - s_i - drift, 0)\n",
    "        gMax.append(gMax_i)\n",
    "        gMin.append(gMax_i)\n",
    "                \n",
    "        return gMax_i, gMin_i\n",
    "    \n",
    "def removeMaxTop(i, cleanChange):\n",
    "    j = i - 1\n",
    "    while(cleanChange[j] > 0 and j > 0):\n",
    "        cleanChange[j] = 0\n",
    "        j -= 1\n",
    "\n",
    "def removeMinTop(i, cleanChange):\n",
    "    j = i - 1\n",
    "    while(cleanChange[j] < 0 and j > 0):\n",
    "        cleanChange[j] = 0\n",
    "        j -= 1\n",
    "        \n",
    "def deleteSmallTops(lastZero, cleanChange, globalMax, coef2, position):\n",
    "    j = lastZero                                  # Delete movements smallers that 50% global maximim\n",
    "    while(j > 0): \n",
    "        try:\n",
    "            if(position == \"max\"):\n",
    "                if(cleanChange[j] < globalMax*coef2): cleanChange[j] = min(0, cleanChange[j])\n",
    "            elif(position == \"min\"):\n",
    "                if(cleanChange[j] > globalMax*coef2): cleanChange[j] = max(0, cleanChange[j])\n",
    "        except:\n",
    "            print(\"error at: \",j)\n",
    "        j -= 1\n",
    "\n",
    "def isLocalMax(i, change):\n",
    "    return change[i] == 0 and change[i-1] > 0\n",
    "\n",
    "def updateLastZero(i, change, lastZero):\n",
    "    if(change[i] == 0): lastZero = i\n",
    "        \n",
    "def isLocalMin(i, change):\n",
    "    return change[i] == 0 and change[i-1] < 0"
   ]
  },
  {
   "cell_type": "code",
   "execution_count": 3,
   "id": "minus-wilderness",
   "metadata": {},
   "outputs": [],
   "source": [
    "x = list(door1.x)\n",
    "z = list(door1.z)\n",
    "y = list(door1.y)\n",
    "\n",
    "### MEDIAN values #####\n",
    "\n",
    "windowSize = 100                # Size of the median window\n",
    "y_windowSize = 100\n",
    "x_median = list()   # median stored\n",
    "z_median = list()\n",
    "y_median = list()\n",
    "\n",
    "#### CUSUM values #####\n",
    "\n",
    "x_drift = 0.07              # drift: CUSUM parameter\n",
    "x_threshold = 0.01          # threshold: CUSUM parameter\n",
    "z_drift = 0.07\n",
    "z_threshold = 0.03\n",
    "y_drift = 0.011\n",
    "y_threshold = 0.005\n",
    "\n",
    "x_alarms = list()           # Points where a movement change is detected\n",
    "x_opening = list()          # Points when an upward movement is detected\n",
    "x_closing = list()          # Points when an downward movement is detected\n",
    "z_alarms = list()           \n",
    "z_opening = list()          \n",
    "z_closing = list()   \n",
    "y_alarms = list()           \n",
    "y_opening = list()          \n",
    "y_closing = list()  \n",
    "            \n",
    "x_gMax = list([0]) # internal variables for CUSUM\n",
    "x_gMin = list([0])\n",
    "z_gMax = list([0])\n",
    "z_gMin = list([0])\n",
    "y_gMax = list([0])\n",
    "y_gMin = list([0])\n",
    "\n",
    "### STEP Detection ####\n",
    "\n",
    "#alarmDetected = False\n",
    "alarmInterval = 10             # Alarms closer than this will be considerated consecutive\n",
    "y_alarmInterval = 50\n",
    "x_alarmCounter = 0               # Counter of consecutive alarms\n",
    "x_change = list()                # Cumulative alarms\n",
    "z_alarmCounter = 0               \n",
    "z_change = list()                \n",
    "y_alarmCounter = 0               \n",
    "y_change = list()   \n",
    "\n",
    "x_closingDetected = False\n",
    "x_openingDetected = False\n",
    "x_lastAlarm = -1                 # Index of last alarm\n",
    "z_closingDetected = False\n",
    "z_openingDetected = False\n",
    "z_lastAlarm = -1   \n",
    "y_closingDetected = False\n",
    "y_openingDetected = False\n",
    "y_lastAlarm = -1   \n",
    "\n",
    "\n",
    "### Slope ponderation ####\n",
    "\n",
    "x_slope = list([0])              # Storing slope\n",
    "z_slope = list([0])              \n",
    "y_slope = list([0])    \n",
    "\n",
    "\n",
    "### Clean change (remove errors online)\n",
    "\n",
    "clean_y_change = list()\n",
    "globalMax_y = 0\n",
    "globalMin_y = 100000\n",
    "lastZero_y = 0   # Last zero before movement\n",
    "\n",
    "clean_x_change = list()\n",
    "globalMax_x = 0\n",
    "globalMin_x = 100000\n",
    "lastZero_x = 0   # Last zero before movement\n",
    "\n",
    "clean_z_change = list()\n",
    "globalMax_z = 0\n",
    "globalMin_z = 100000\n",
    "lastZero_z = 0   # Last zero before movement\n",
    "\n",
    "coef1 = 1.2\n",
    "coef2 = 0.5"
   ]
  },
  {
   "cell_type": "code",
   "execution_count": 4,
   "id": "provincial-ideal",
   "metadata": {},
   "outputs": [],
   "source": [
    "for i in range(0, 500000):\n",
    "    \n",
    "    ### MEDIAN calculation #####\n",
    "    # Calculate median of raw data     \n",
    "    rolling_media(i, x, windowSize, x_median)\n",
    "    rolling_media(i, z, windowSize, z_median)\n",
    "    rolling_media(i, y, y_windowSize, y_median)\n",
    "\n",
    "    ###### CUSUM intervals #####\n",
    "    # Detect growing and decreasing tendences on the median,\n",
    "    # Results in a list of indexes of changes\n",
    "    if(i != 0): \n",
    "        x_gMax_i, x_gMin_i = cummulative_sum(i, x_median, x_gMax, x_gMin, x_drift)\n",
    "        \n",
    "        x_alarmDetected = x_gMax_i > x_threshold or x_gMin_i > x_threshold\n",
    "        if(x_alarmDetected): x_alarms.append(i)\n",
    "\n",
    "        x_openingDetected = x_gMax_i > x_threshold\n",
    "        if(x_openingDetected): x_opening.append(i)\n",
    "\n",
    "        x_closingDetected = x_gMin_i > x_threshold\n",
    "        if(x_closingDetected): x_closing.append(i)   \n",
    "            \n",
    "        ####\n",
    "        \n",
    "        z_gMax_i, z_gMin_i = cummulative_sum(i, z_median, z_gMax, z_gMin, z_drift)\n",
    "        \n",
    "        z_alarmDetected = z_gMax_i > z_threshold or z_gMin_i > z_threshold\n",
    "        if(z_alarmDetected): z_alarms.append(i)\n",
    "\n",
    "        z_openingDetected = z_gMax_i > z_threshold\n",
    "        if(z_openingDetected): z_opening.append(i)\n",
    "\n",
    "        z_closingDetected = z_gMin_i > z_threshold\n",
    "        if(z_closingDetected): z_closing.append(i)  \n",
    "            \n",
    "        ####\n",
    "        \n",
    "        y_gMax_i, y_gMin_i = cummulative_sum(i, y_median, y_gMax, y_gMin, y_drift)\n",
    "        \n",
    "        y_alarmDetected = y_gMax_i > y_threshold or y_gMin_i > y_threshold\n",
    "        if(y_alarmDetected): y_alarms.append(i)\n",
    "\n",
    "        y_openingDetected = y_gMax_i > y_threshold\n",
    "        if(y_openingDetected): y_opening.append(i)\n",
    "\n",
    "        y_closingDetected = y_gMin_i > y_threshold\n",
    "        if(y_closingDetected): y_closing.append(i)  \n",
    "        \n",
    "\n",
    "    ### Slope ponderation ####\n",
    "    # Calculate the slope of the median to ponderate with the added value in case \n",
    "    # of positive alarm. Helps define the intervals with more precision, solve errors\n",
    "    # in definition and provides an aproximation of speed\n",
    "    \n",
    "    # (fun(i) - fun(j) / (i-j)) # i-j is constant, j = i - 1\n",
    "    if(i != 0): \n",
    "        x_slope.append(x_median[i] - x_median[i-1])\n",
    "        z_slope.append(z_median[i] - z_median[i-1])\n",
    "        y_slope.append(y_median[i] - y_median[i-1])\n",
    "        \n",
    "    \n",
    "    #### Step Detection #####\n",
    "    # Apply ponderation an calculate cumulative movement\n",
    "    \n",
    "    if(x_openingDetected or x_closingDetected):\n",
    "        x_alarmCounter += (1 * x_slope[i])\n",
    "        x_lastAlarm = i   \n",
    "    elif(x_lastAlarm > i - alarmInterval):  # Interval exceded\n",
    "        x_alarmCounter += (1 * x_slope[i])\n",
    "    else:\n",
    "        x_alarmCounter = 0 \n",
    "    x_change.append(x_alarmCounter)\n",
    "    \n",
    "    ####\n",
    "    \n",
    "    if(z_openingDetected or z_closingDetected):\n",
    "        z_alarmCounter += (1 * z_slope[i])\n",
    "        z_lastAlarm = i   \n",
    "    elif(z_lastAlarm > i - alarmInterval):  # Interval exceded\n",
    "        z_alarmCounter += (1 * z_slope[i])\n",
    "    else:\n",
    "        z_alarmCounter = 0 \n",
    "    z_change.append(z_alarmCounter)\n",
    "    \n",
    "    ####\n",
    "    \n",
    "    if(y_openingDetected or y_closingDetected):\n",
    "        y_alarmCounter += (1 * y_slope[i])\n",
    "        y_lastAlarm = i   \n",
    "    elif(y_lastAlarm > i - y_alarmInterval):  # Interval exceded\n",
    "        y_alarmCounter += (1 * y_slope[i])\n",
    "    else:\n",
    "        y_alarmCounter = 0 \n",
    "    y_change.append(y_alarmCounter)\n",
    "    \n",
    "    \n",
    "    ### Cleaning change vector ####\n",
    "    \n",
    "    if(i == 0):\n",
    "        clean_x_change = list([x_change[0]])\n",
    "        clean_y_change = list([y_change[0]])\n",
    "        clean_z_change = list([z_change[0]])\n",
    "\n",
    "    \n",
    "    else:\n",
    "        if(y_change[i] == 0): lastZero_y = i                        # Update Last zero     \n",
    "    \n",
    "        localMax = isLocalMax(i, y_change)                          # Check if position is a local maximum\n",
    "\n",
    "        if(localMax):\n",
    "            isGlobal = y_change[i-1] > globalMax_y*coef1  # Local maximum is global\n",
    "            deleteTop = y_change[i-1] < globalMax_y*coef2\n",
    "\n",
    "            if (isGlobal):                  \n",
    "                globalMax_y = y_change[i-1]\n",
    "                deleteSmallTops(lastZero_y, clean_y_change, globalMax_y, coef2, \"max\")\n",
    "\n",
    "            elif(deleteTop):                 # Local top is not global and smaller than 50% global: delete\n",
    "                removeMaxTop(i, clean_y_change)\n",
    "\n",
    "        localMin = isLocalMin(i, y_change)\n",
    "        if(localMin): \n",
    "            isGlobal = y_change[i-1] < globalMin_y*coef2\n",
    "            deleteTop = y_change[i-1] > globalMin_y*coef2\n",
    "\n",
    "            if (isGlobal):                   # Local minimum is global\n",
    "                globalMin_y = y_change[i-1]\n",
    "                deleteSmallTops(lastZero_y, clean_y_change, globalMin_y, coef2, \"min\")\n",
    "\n",
    "            elif(deleteTop):                  # Local min is not global and smaller than 50% global: delete\n",
    "                removeMinTop(i, clean_y_change)\n",
    "\n",
    "          ####\n",
    "\n",
    "        updateLastZero(i, x_change, lastZero_x)                         # Update Last zero     \n",
    "        localMax = isLocalMax(i, x_change)                          # Check if position is a local maximum\n",
    "\n",
    "        if(localMax):\n",
    "            isGlobal = x_change[i-1] > globalMax_x*coef1  # Local maximum is global\n",
    "            deleteTop = x_change[i-1] < globalMax_x*coef2\n",
    "\n",
    "            if (isGlobal):                  \n",
    "                globalMax_x = x_change[i-1]\n",
    "                deleteSmallTops(lastZero_x, clean_x_change, globalMax_x, coef2, \"max\")\n",
    "\n",
    "            elif(deleteTop):                 # Local top is not global and smaller than 50% global: delete\n",
    "                removeMaxTop(i, clean_x_change)\n",
    "\n",
    "\n",
    "            localMin = isLocalMin(i, y_change)\n",
    "\n",
    "        if(localMin): \n",
    "            isGlobal = x_change[i-1] < globalMin_x*coef2\n",
    "            deleteTop = x_change[i-1] > globalMin_x*coef2\n",
    "\n",
    "            if (isGlobal):                   # Local minimum is global\n",
    "                globalMin_x = x_change[i-1]\n",
    "                deleteSmallTops(lastZero_x, clean_x_change, globalMin_x, coef2, \"min\")\n",
    "\n",
    "            elif(deleteTop):                  # Local min is not global and smaller than 50% global: delete\n",
    "                removeMinTop(i, clean_x_change)\n",
    "\n",
    "\n",
    "        ####\n",
    "\n",
    "\n",
    "        updateLastZero(i, z_change, lastZero_z)                         # Update Last zero     \n",
    "        localMax = isLocalMax(i, z_change)                          # Check if position is a local maximum\n",
    "\n",
    "        if(localMax):\n",
    "            isGlobal = z_change[i-1] > globalMax_z*coef1  # Local maximum is global\n",
    "            deleteTop = z_change[i-1] < globalMax_z*coef2\n",
    "\n",
    "            if (isGlobal):                  \n",
    "                globalMax_z = z_change[i-1]\n",
    "                deleteSmallTops(lastZero_z, clean_z_change, globalMax_z, coef2, \"max\")\n",
    "\n",
    "            elif(deleteTop):                 # Local top is not global and smaller than 50% global: delete\n",
    "                removeMaxTop(i, clean_z_change)\n",
    "\n",
    "\n",
    "            localMin = isLocalMin(i, z_change)\n",
    "\n",
    "        if(localMin): \n",
    "            isGlobal = z_change[i-1] < globalMin_z*coef2\n",
    "            deleteTop = z_change[i-1] > globalMin_z*coef2\n",
    "\n",
    "            if (isGlobal):                   # Local minimum is global\n",
    "                globalMin_z = z_change[i-1]\n",
    "                deleteSmallTops(lastZero_z, clean_z_change, globalMin_z, coef2, \"min\")\n",
    "\n",
    "            elif(deleteTop):                  # Local min is not global and smaller than 50% global: delete\n",
    "                removeMinTop(i, clean_z_change)\n",
    "\n",
    "        ####\n",
    "\n",
    "        clean_y_change.append(y_change[i])\n",
    "        clean_x_change.append(x_change[i])\n",
    "        clean_z_change.append(z_change[i])\n"
   ]
  },
  {
   "cell_type": "markdown",
   "id": "athletic-helmet",
   "metadata": {},
   "source": [
    "### TESTS"
   ]
  },
  {
   "cell_type": "code",
   "execution_count": 5,
   "id": "mathematical-twelve",
   "metadata": {},
   "outputs": [
    {
     "data": {
      "image/png": "[encoded data removed]",
      "text/plain": [
       "<Figure size 432x288 with 1 Axes>"
      ]
     },
     "metadata": {
      "needs_background": "light"
     },
     "output_type": "display_data"
    },
    {
     "data": {
      "image/png": "[encoded data removed]",
      "text/plain": [
       "<Figure size 432x288 with 1 Axes>"
      ]
     },
     "metadata": {
      "needs_background": "light"
     },
     "output_type": "display_data"
    },
    {
     "data": {
      "image/png": "[encoded data removed]",
      "text/plain": [
       "<Figure size 432x288 with 1 Axes>"
      ]
     },
     "metadata": {
      "needs_background": "light"
     },
     "output_type": "display_data"
    },
    {
     "data": {
      "image/png": "[encoded data removed]",
      "text/plain": [
       "<Figure size 432x288 with 1 Axes>"
      ]
     },
     "metadata": {
      "needs_background": "light"
     },
     "output_type": "display_data"
    },
    {
     "data": {
      "image/png": "[encoded data removed]",
      "text/plain": [
       "<Figure size 432x288 with 1 Axes>"
      ]
     },
     "metadata": {
      "needs_background": "light"
     },
     "output_type": "display_data"
    },
    {
     "data": {
      "text/plain": [
       "[<matplotlib.lines.Line2D at 0x7f9da2367cd0>]"
      ]
     },
     "execution_count": 5,
     "metadata": {},
     "output_type": "execute_result"
    },
    {
     "data": {
      "image/png": "[encoded data removed]",
      "text/plain": [
       "<Figure size 432x288 with 1 Axes>"
      ]
     },
     "metadata": {
      "needs_background": "light"
     },
     "output_type": "display_data"
    }
   ],
   "source": [
    "plt.plot(y_change[0:5000], color=\"red\")\n",
    "plt.show()\n",
    "plt.plot(clean_y_change[0:5000], color=\"blue\")\n",
    "\n",
    "plt.show()\n",
    "\n",
    "plt.plot(x_change[0:5000], color=\"red\")\n",
    "plt.show()\n",
    "plt.plot(clean_x_change[0:5000], color=\"blue\")\n",
    "\n",
    "plt.show()\n",
    "\n",
    "plt.plot(z_change[0:5000], color=\"red\")\n",
    "plt.show()\n",
    "plt.plot(clean_z_change[0:5000], color=\"blue\")"
   ]
  },
  {
   "cell_type": "code",
   "execution_count": null,
   "id": "assigned-weekend",
   "metadata": {
    "scrolled": true
   },
   "outputs": [],
   "source": [
    "# Alarms detected with median\n",
    "for i in x_closing:\n",
    "    plt.axvline(x=i, color='red', linestyle='-')\n",
    "for i in x_opening:\n",
    "    plt.axvline(x=i, color='green', linestyle='-')\n",
    "\n",
    "plt.plot(x_median[0:50000], color=\"blue\")\n",
    "\n",
    "plt.show()\n",
    "\n",
    "for i in z_closing:\n",
    "    plt.axvline(x=i, color='red', linestyle='-')\n",
    "for i in z_opening:\n",
    "    plt.axvline(x=i, color='green', linestyle='-')\n",
    "\n",
    "plt.plot(z_median[0:50000], color=\"blue\")\n",
    "\n",
    "plt.show()\n",
    "\n",
    "for i in y_closing:\n",
    "    plt.axvline(x=i, color='red', linestyle='-')\n",
    "for i in y_opening:\n",
    "    plt.axvline(x=i, color='green', linestyle='-')\n",
    "\n",
    "plt.plot(y_median[0:50000], color=\"blue\")"
   ]
  },
  {
   "cell_type": "code",
   "execution_count": null,
   "id": "serious-wells",
   "metadata": {
    "scrolled": true
   },
   "outputs": [],
   "source": [
    "plt.plot(x_median[0:20000], color=\"blue\")\n",
    "plt.plot(x_change[0:20000], color=\"red\")\n",
    "\n",
    "plt.show()\n",
    "\n",
    "plt.plot(z_median[0:20000], color=\"blue\")\n",
    "plt.plot(z_change[0:20000], color=\"red\")\n",
    "\n",
    "plt.show()\n",
    "\n",
    "plt.plot(y_median[0:20000], color=\"blue\")\n",
    "plt.plot(y_change[0:20000], color=\"red\")"
   ]
  },
  {
   "cell_type": "code",
   "execution_count": null,
   "id": "green-mixture",
   "metadata": {
    "scrolled": true
   },
   "outputs": [],
   "source": [
    "for i in x_alarms:\n",
    "    if(i > 3000 and i < 5000):\n",
    "        plt.axvline(x=i-3000, color='red', linestyle='-')\n",
    "plt.plot(x_median[3000:5000], color=\"blue\")\n",
    "plt.plot(x_change[3000:5000], color=\"green\")\n",
    "\n",
    "plt.show()\n",
    "\n",
    "for i in z_alarms:\n",
    "    if(i > 3000 and i < 5000):\n",
    "        plt.axvline(x=i-3000, color='red', linestyle='-')\n",
    "plt.plot(z_median[3000:5000], color=\"blue\")\n",
    "plt.plot(z_change[3000:5000], color=\"green\")"
   ]
  },
  {
   "cell_type": "code",
   "execution_count": null,
   "id": "sudden-evidence",
   "metadata": {},
   "outputs": [],
   "source": []
  },
  {
   "cell_type": "code",
   "execution_count": null,
   "id": "returning-concert",
   "metadata": {},
   "outputs": [],
   "source": [
    "plt.plot(z[490000:500000], color=\"blue\")\n",
    "plt.plot(z_median[490000:500000], color=\"red\")"
   ]
  },
  {
   "cell_type": "code",
   "execution_count": null,
   "id": "expired-polls",
   "metadata": {
    "scrolled": true
   },
   "outputs": [],
   "source": [
    "plt.plot(z_change, color=\"red\")"
   ]
  },
  {
   "cell_type": "markdown",
   "id": "ranging-examination",
   "metadata": {},
   "source": [
    "### Detect open/closed"
   ]
  },
  {
   "cell_type": "code",
   "execution_count": null,
   "id": "sacred-bottom",
   "metadata": {},
   "outputs": [],
   "source": [
    "state = \"unknown\"\n",
    "state_list = list([state])\n",
    "\n",
    "for i in range(1, len(x_change)):\n",
    "    if(x_change[i] == 0 and x_change[i-1] > 0): state = \"open\"\n",
    "    elif(x_change[i] == 0 and x_change[i-1] < 0): state = \"closed\"\n",
    "    \n",
    "    state_list.append(state)"
   ]
  },
  {
   "cell_type": "code",
   "execution_count": null,
   "id": "impressed-republic",
   "metadata": {
    "scrolled": true
   },
   "outputs": [],
   "source": [
    "for i in range(0, len(state_list[0:5000])):\n",
    "    if(state_list[i] == \"open\"):\n",
    "        plt.axvline(x=i, color='green', linestyle='-')\n",
    "plt.plot(x[0:5000], color=\"blue\")\n",
    "        "
   ]
  },
  {
   "cell_type": "markdown",
   "id": "illegal-singing",
   "metadata": {},
   "source": [
    "### Compare results"
   ]
  },
  {
   "cell_type": "markdown",
   "id": "minus-hometown",
   "metadata": {},
   "source": [
    "### Clean"
   ]
  },
  {
   "cell_type": "code",
   "execution_count": null,
   "id": "charged-township",
   "metadata": {},
   "outputs": [],
   "source": [
    "a = 0\n",
    "b = 5000\n",
    "\n",
    "plt.plot(clean_x_change[a:b], color=\"blue\")\n",
    "plt.show()\n",
    "plt.plot(clean_y_change[a:b], color=\"red\")\n",
    "plt.show()\n",
    "plt.plot(clean_z_change[a:b], color=\"green\")"
   ]
  },
  {
   "cell_type": "code",
   "execution_count": null,
   "id": "quick-customer",
   "metadata": {},
   "outputs": [],
   "source": [
    "plt.show()\n",
    "\n",
    "plt.plot(x_change[0:500000], color=\"red\")\n",
    "plt.show()\n",
    "plt.plot(clean_x_change[0:500000], color=\"blue\")"
   ]
  },
  {
   "cell_type": "code",
   "execution_count": null,
   "id": "sorted-animation",
   "metadata": {
    "scrolled": false
   },
   "outputs": [],
   "source": [
    "plt.plot(x_change[0:20000], color=\"blue\")\n",
    "plt.show()\n",
    "plt.plot(x[0:20000], color=\"blue\")\n"
   ]
  },
  {
   "cell_type": "code",
   "execution_count": null,
   "id": "dental-cylinder",
   "metadata": {
    "scrolled": true
   },
   "outputs": [],
   "source": [
    "plt.plot(y_change[0:5000], color=\"blue\")\n",
    "for i in localMin_list:\n",
    "    plt.axvline(x=i, color='green', linestyle='-')\n",
    "plt.show()\n"
   ]
  },
  {
   "cell_type": "code",
   "execution_count": null,
   "id": "bound-hamilton",
   "metadata": {},
   "outputs": [],
   "source": [
    "plt.plot(y_change[0:500000], color=\"red\")\n",
    "plt.show()\n",
    "plt.plot(clean_y_change[0:500000], color=\"blue\")\n",
    "\n",
    "plt.show()\n",
    "\n",
    "plt.plot(x_change[0:500000], color=\"red\")\n",
    "plt.show()\n",
    "plt.plot(clean_x_change[0:500000], color=\"blue\")\n",
    "\n",
    "plt.show()\n",
    "\n",
    "plt.plot(z_change[0:500000], color=\"red\")\n",
    "plt.show()\n",
    "plt.plot(clean_z_change[0:500000], color=\"blue\")\n"
   ]
  },
  {
   "cell_type": "code",
   "execution_count": 39,
   "id": "tracked-magnitude",
   "metadata": {},
   "outputs": [
    {
     "name": "stdout",
     "output_type": "stream",
     "text": [
      "error at:  253\n",
      "global:  610\n",
      "lastZero 610\n",
      "----\n",
      "error at:  610\n",
      "global:  4238\n",
      "lastZero 4238\n",
      "----\n",
      "error at:  4238\n"
     ]
    }
   ],
   "source": [
    "### Clean change (remove errors online)\n",
    "\n",
    "clean_y_change = list([y_change[0]])\n",
    "globalMax_y = -1\n",
    "globalMin_y = 100000\n",
    "lastZero_y = 0   # Last zero before movement\n",
    "\n",
    "clean_x_change = list([x_change[0]])\n",
    "globalMax_x = 0\n",
    "globalMin_x = 100000\n",
    "lastZero_x = 0   # Last zero before movement\n",
    "\n",
    "clean_z_change = list([z_change[0]])\n",
    "globalMax_z = 0\n",
    "globalMin_z = 100000\n",
    "lastZero_z = 0   # Last zero before movement\n",
    "\n",
    "coef1 = 1.2\n",
    "coef2 = 0.5\n",
    "\n",
    "\n",
    "def removeMaxTop(i, cleanChange):\n",
    "    j = i - 1\n",
    "    while(cleanChange[j] > 0 and j > 0):\n",
    "        cleanChange[j] = 0\n",
    "        j -= 1\n",
    "\n",
    "def removeMinTop(i, cleanChange):\n",
    "    j = i - 1\n",
    "    while(cleanChange[j] < 0 and j > 0):\n",
    "        cleanChange[j] = 0\n",
    "        j -= 1\n",
    "        \n",
    "def deleteSmallTops(lastZero, cleanChange, globalMax, coef2, position):\n",
    "    j = lastZero                                  # Delete movements smallers that 50% global maximim\n",
    "    while(j > 0): \n",
    "        try:\n",
    "            if(position == \"max\"):\n",
    "                if(cleanChange[j] < globalMax*coef2): cleanChange[j] = min(0, cleanChange[j])\n",
    "            elif(position == \"min\"):\n",
    "                if(cleanChange[j] > globalMax*coef2): cleanChange[j] = max(0, cleanChange[j])\n",
    "        except:\n",
    "            print(\"error at: \",j)\n",
    "        j -= 1\n",
    "\n",
    "def isLocalMax(i, change):\n",
    "    return change[i] == 0 and change[i-1] > 0\n",
    "\n",
    "def updateLastZero(i, change, lastZero):\n",
    "    if(change[i] == 0): lastZero = i\n",
    "        \n",
    "def isLocalMin(i, change):\n",
    "    return change[i] == 0 and change[i-1] < 0\n",
    "\n",
    "localTop_list = list()\n",
    "\n",
    "for i in range(1, len(y_change[0:50000])):\n",
    "    \n",
    "    if(y_change[i] == 0): lastZero_y = i                         # Update Last zero     \n",
    "    localMax = isLocalMax(i, y_change)                          # Check if position is a local maximum\n",
    "    \n",
    "    if(localMax):\n",
    "        localTop_list.append(i)\n",
    "        isGlobal = y_change[i-1] > globalMax_y*coef1  # Local maximum is global\n",
    "        deleteTop = y_change[i-1] > globalMin_y*coef2\n",
    "        \n",
    "        if (isGlobal):    \n",
    "            print(\"global: \", i)\n",
    "            print(\"lastZero\", lastZero_y)\n",
    "            print(\"----\")\n",
    "            globalMax_y = y_change[i-1]\n",
    "            deleteSmallTops(lastZero_y, clean_y_change, globalMax_y, coef2, \"max\")\n",
    "            \n",
    "        elif(deleteTop):                 # Local top is not global and smaller than 50% global: delete\n",
    "            \n",
    "            localTop_list.append(i)\n",
    "            removeMaxTop(i, clean_y_change)\n",
    "    \n",
    "    localMin = isLocalMin(i, y_change)\n",
    "    if(localMin): \n",
    "        isGlobal = y_change[i-1] < globalMin_y*coef1\n",
    "        deleteTop = y_change[i-1] > globalMin_y*coef2\n",
    "        \n",
    "        if (isGlobal):                   # Local minimum is global\n",
    "            globalMin_y = y_change[i-1]\n",
    "            deleteSmallTops(lastZero_y, clean_y_change, globalMin_y, coef2, \"min\")\n",
    "            \n",
    "        elif(deleteTop):                  # Local min is not global and smaller than 50% global: delete\n",
    "            removeMinTop(i, clean_y_change)\n",
    "    \n",
    "      ####\n",
    "    \n",
    "    \n",
    "    clean_y_change.append(y_change[i])\n",
    "\n"
   ]
  },
  {
   "cell_type": "code",
   "execution_count": 41,
   "id": "received-driver",
   "metadata": {
    "scrolled": true
   },
   "outputs": [
    {
     "data": {
      "image/png": "[encoded data removed]",
      "text/plain": [
       "<Figure size 432x288 with 1 Axes>"
      ]
     },
     "metadata": {
      "needs_background": "light"
     },
     "output_type": "display_data"
    },
    {
     "data": {
      "text/plain": [
       "[<matplotlib.lines.Line2D at 0x7f9dff4c7040>]"
      ]
     },
     "execution_count": 41,
     "metadata": {},
     "output_type": "execute_result"
    },
    {
     "data": {
      "image/png": "[encoded data removed]",
      "text/plain": [
       "<Figure size 432x288 with 1 Axes>"
      ]
     },
     "metadata": {
      "needs_background": "light"
     },
     "output_type": "display_data"
    }
   ],
   "source": [
    "plt.plot(clean_y_change[0:5000])\n",
    "plt.show()\n",
    "plt.plot(y_change[0:5000])\n"
   ]
  },
  {
   "cell_type": "code",
   "execution_count": 26,
   "id": "finished-rebecca",
   "metadata": {},
   "outputs": [
    {
     "data": {
      "text/plain": [
       "4.0"
      ]
     },
     "execution_count": 26,
     "metadata": {},
     "output_type": "execute_result"
    }
   ],
   "source": [
    "# y_change[i-1] > globalMin_y*coef2\n",
    "\n",
    "\n",
    "20 * 0.2"
   ]
  }
 ],
 "metadata": {
  "kernelspec": {
   "display_name": "Python 3",
   "language": "python",
   "name": "python3"
  },
  "language_info": {
   "codemirror_mode": {
    "name": "ipython",
    "version": 3
   },
   "file_extension": ".py",
   "mimetype": "text/x-python",
   "name": "python",
   "nbconvert_exporter": "python",
   "pygments_lexer": "ipython3",
   "version": "3.8.5"
  }
 },
 "nbformat": 4,
 "nbformat_minor": 5
}
