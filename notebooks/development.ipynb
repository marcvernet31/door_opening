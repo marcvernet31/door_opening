{
 "cells": [
  {
   "cell_type": "code",
   "execution_count": 1,
   "id": "selective-receipt",
   "metadata": {},
   "outputs": [],
   "source": [
    "import pandas as pd\n",
    "from matplotlib import pyplot as plt\n",
    "\n",
    "import numpy as np"
   ]
  },
  {
   "cell_type": "code",
   "execution_count": 2,
   "id": "primary-turner",
   "metadata": {},
   "outputs": [],
   "source": [
    "# Door 1\n",
    "door1 = pd.read_csv(\"data/data_door1.txt\",  sep=\";\", header=None)\n",
    "door1 = door1.set_axis([\"Timestamp\", \"x\", \"y\", \"z\", \"pressure\"], axis=1, inplace=False)\n",
    "\n",
    "# Door 2\n",
    "door2 = pd.read_csv(\"data/data_door2.txt\",  sep=\";\", header=None)\n",
    "# has 5 variables ???\n",
    "\n",
    "# Test Data (where is from ??)\n",
    "testdata = pd.read_csv(\"data/testdata.csv\", sep=\";\", header=None)\n",
    "testdata = testdata.set_axis([\"Timestamp\", \"x\", \"y\", \"z\", \"pressure\"], axis=1, inplace=False)"
   ]
  },
  {
   "cell_type": "code",
   "execution_count": 3,
   "id": "hidden-governor",
   "metadata": {
    "scrolled": false
   },
   "outputs": [
    {
     "data": {
      "text/html": [
       "<div>\n",
       "<style scoped>\n",
       "    .dataframe tbody tr th:only-of-type {\n",
       "        vertical-align: middle;\n",
       "    }\n",
       "\n",
       "    .dataframe tbody tr th {\n",
       "        vertical-align: top;\n",
       "    }\n",
       "\n",
       "    .dataframe thead th {\n",
       "        text-align: right;\n",
       "    }\n",
       "</style>\n",
       "<table border=\"1\" class=\"dataframe\">\n",
       "  <thead>\n",
       "    <tr style=\"text-align: right;\">\n",
       "      <th></th>\n",
       "      <th>Timestamp</th>\n",
       "      <th>x</th>\n",
       "      <th>y</th>\n",
       "      <th>z</th>\n",
       "      <th>pressure</th>\n",
       "    </tr>\n",
       "  </thead>\n",
       "  <tbody>\n",
       "    <tr>\n",
       "      <th>0</th>\n",
       "      <td>2975</td>\n",
       "      <td>-14.460515</td>\n",
       "      <td>0.517131</td>\n",
       "      <td>0.095765</td>\n",
       "      <td>83.465385</td>\n",
       "    </tr>\n",
       "    <tr>\n",
       "      <th>1</th>\n",
       "      <td>3015</td>\n",
       "      <td>-12.028084</td>\n",
       "      <td>0.421366</td>\n",
       "      <td>0.076612</td>\n",
       "      <td>83.465782</td>\n",
       "    </tr>\n",
       "    <tr>\n",
       "      <th>2</th>\n",
       "      <td>3055</td>\n",
       "      <td>-10.840598</td>\n",
       "      <td>0.344754</td>\n",
       "      <td>0.134071</td>\n",
       "      <td>83.465599</td>\n",
       "    </tr>\n",
       "    <tr>\n",
       "      <th>3</th>\n",
       "      <td>3095</td>\n",
       "      <td>-10.227702</td>\n",
       "      <td>0.344754</td>\n",
       "      <td>0.153224</td>\n",
       "      <td>83.465515</td>\n",
       "    </tr>\n",
       "    <tr>\n",
       "      <th>4</th>\n",
       "      <td>3134</td>\n",
       "      <td>-9.902101</td>\n",
       "      <td>0.325601</td>\n",
       "      <td>0.114918</td>\n",
       "      <td>83.465507</td>\n",
       "    </tr>\n",
       "  </tbody>\n",
       "</table>\n",
       "</div>"
      ],
      "text/plain": [
       "   Timestamp          x         y         z   pressure\n",
       "0       2975 -14.460515  0.517131  0.095765  83.465385\n",
       "1       3015 -12.028084  0.421366  0.076612  83.465782\n",
       "2       3055 -10.840598  0.344754  0.134071  83.465599\n",
       "3       3095 -10.227702  0.344754  0.153224  83.465515\n",
       "4       3134  -9.902101  0.325601  0.114918  83.465507"
      ]
     },
     "execution_count": 3,
     "metadata": {},
     "output_type": "execute_result"
    }
   ],
   "source": [
    "door1.head()"
   ]
  },
  {
   "cell_type": "markdown",
   "id": "mobile-figure",
   "metadata": {},
   "source": [
    "______________________________________________________________________________________________________________"
   ]
  },
  {
   "cell_type": "code",
   "execution_count": 4,
   "id": "stunning-pittsburgh",
   "metadata": {},
   "outputs": [
    {
     "name": "stdout",
     "output_type": "stream",
     "text": [
      "length:  6057868\n"
     ]
    }
   ],
   "source": [
    "# Start selecting one variable and segmenting\n",
    "# DOOR 1 : X\n",
    "\n",
    "variable = list(door1.x)\n",
    "print(\"length: \", len(variable))"
   ]
  },
  {
   "cell_type": "code",
   "execution_count": 119,
   "id": "viral-boulder",
   "metadata": {
    "scrolled": true
   },
   "outputs": [],
   "source": [
    "def calculateMedian(variable, size):        \n",
    "    start = max(i - size, 0) \n",
    "    end = min(i, len(variable)) \n",
    "\n",
    "    calculate_median = variable[start:end]\n",
    "    calculate_median.sort()\n",
    "    if(len(calculate_median) > 0): median = calculate_median[len(calculate_median)//2]\n",
    "    else: median = variable[i]\n",
    "        \n",
    "    return median\n",
    "\n",
    "\n",
    "### MEDIAN values #####\n",
    "\n",
    "size = 100                # Size of the median window\n",
    "variableMedian = list()   # median stored\n",
    "\n",
    "\n",
    "#### CUSUM values #####\n",
    "\n",
    "drift = 0.07              # drift: CUSUM parameter\n",
    "threshold = 0.01          # threshold: CUSUM parameter\n",
    "\n",
    "s = list([0])             # internal variables for CUSUM\n",
    "gMax = list([0])\n",
    "gMin = list([0])\n",
    "\n",
    "alarms = list()           # Points where a movement change is detected\n",
    "opening = list()          # Points when an upward movement is detected\n",
    "closing = list()          # Points when an downward movement is detected\n",
    "\n",
    "\n",
    "### STEP Detection ####\n",
    "\n",
    "alarmDetected = False\n",
    "alarmInterval = 10             # Alarms closer than this will be considerated consecutive\n",
    "alarmCounter = 0               # Counter of consecutive alarms\n",
    "change = list()                # Cumulative alarms\n",
    "\n",
    "\n",
    "closingDetected = False\n",
    "openingDetected = False\n",
    "lastClosing = -1               # Index of last closing\n",
    "lastOpening = -1               # Index of last opening\n",
    "lastAlarm = -1                 # Index of last alarm\n",
    "\n",
    "\n",
    "\n",
    "### Slope ponderation ####\n",
    "\n",
    "slope = list([0])              # Storing slope\n",
    "\n",
    "\n",
    "for i in range(0, 5000):\n",
    "    \n",
    "    ### MEDIAN calculation #####\n",
    "    # Calculate median of raw data \n",
    "    \n",
    "    median = calculateMedian(storedValues, size)\n",
    "    variableMedian.append(median)\n",
    "    \n",
    "\n",
    "    ###### CUSUM intervals #####\n",
    "    # Detect growing and decreasing tendences on the median,\n",
    "    # Results in a list of indexes of changes\n",
    "        \n",
    "    if(i != 0):\n",
    "        s_i = variableMedian[i] - variableMedian[i-1]\n",
    "        gMax_i = max(gMax[i-1] + s_i - drift, 0)\n",
    "        gMin_i = max(gMin[i-1] - s_i - drift, 0)\n",
    "        \n",
    "        if(gMax_i > threshold):\n",
    "            alarms.append(i)\n",
    "            alarmDetected = True\n",
    "            \n",
    "            openingDetected = True\n",
    "            opening.append(i)\n",
    "            \n",
    "            \n",
    "        elif(gMin_i > threshold):\n",
    "            alarms.append(i)\n",
    "            alarmDetected = True\n",
    "            \n",
    "            closingDetected = True\n",
    "            closing.append(i)\n",
    "            \n",
    "        else: \n",
    "            alarmDetected = False\n",
    "            closingDetected = False\n",
    "            openingDetected = False\n",
    "\n",
    "        s.append(s_i)\n",
    "        gMax.append(gMax_i)\n",
    "        gMin.append(gMax_i)\n",
    "        \n",
    "        \n",
    "    ### Slope ponderation ####\n",
    "    # Calculate the slope of the median to ponderate with the added value in case \n",
    "    # of positive alarm. Helps define the intervals with more precision, solve errors\n",
    "    # in definition and provides an aproximation of speed\n",
    "    \n",
    "    \n",
    "    if(i != 0):\n",
    "        j = i - 1\n",
    "        slope.append( (variableMedian[i] - variableMedian[j]) / (i-j) )\n",
    "        \n",
    "    \n",
    "    #### Step Detection #####\n",
    "    # Apply ponderation an calculate cumulative movement\n",
    "    \n",
    "    ponderatedAdd = 1 * slope[i]\n",
    "    \n",
    "    if(alarmDetected):\n",
    "        \n",
    "        alarmCounter += ponderatedAdd\n",
    "        #if(openingDetected): alarmCounter += ponderatedAdd\n",
    "        #elif(closingDetected): alarmCounter -= ponderatedAdd\n",
    "        lastAlarm = i\n",
    "        \n",
    "        \n",
    "    elif(lastAlarm > i - alarmInterval):\n",
    "        alarmCounter += ponderatedAdd\n",
    "        #if(openingDetected): alarmCounter += ponderatedAdd\n",
    "        #elif(closingDetected): alarmCounter -= ponderatedAdd\n",
    "    else:\n",
    "        alarmCounter = 0\n",
    "        \n",
    "    change.append(alarmCounter)\n",
    "    \n",
    "    \n",
    "        \n"
   ]
  },
  {
   "cell_type": "code",
   "execution_count": 120,
   "id": "considered-finger",
   "metadata": {
    "scrolled": false
   },
   "outputs": [
    {
     "data": {
      "text/plain": [
       "[<matplotlib.lines.Line2D at 0x7fef04ec80d0>]"
      ]
     },
     "execution_count": 120,
     "metadata": {},
     "output_type": "execute_result"
    },
    {
     "data": {
      "image/png": "[encoded data removed]",
      "text/plain": [
       "<Figure size 432x288 with 1 Axes>"
      ]
     },
     "metadata": {
      "needs_background": "light"
     },
     "output_type": "display_data"
    }
   ],
   "source": [
    "# Alarms detected with median\n",
    "for i in closing:\n",
    "    plt.axvline(x=i, color='red', linestyle='-')\n",
    "for i in opening:\n",
    "    plt.axvline(x=i, color='green', linestyle='-')\n",
    "\n",
    "plt.plot(variableMedian[0:5000], color=\"blue\")\n"
   ]
  },
  {
   "cell_type": "code",
   "execution_count": 121,
   "id": "distant-darkness",
   "metadata": {
    "scrolled": false
   },
   "outputs": [
    {
     "data": {
      "text/plain": [
       "[<matplotlib.lines.Line2D at 0x7feee07f6730>]"
      ]
     },
     "execution_count": 121,
     "metadata": {},
     "output_type": "execute_result"
    },
    {
     "data": {
      "image/png": "[encoded data removed]",
      "text/plain": [
       "<Figure size 432x288 with 1 Axes>"
      ]
     },
     "metadata": {
      "needs_background": "light"
     },
     "output_type": "display_data"
    }
   ],
   "source": [
    "plt.plot(variableMedian[0:5000], color=\"blue\")\n",
    "plt.plot(change[0:5000], color=\"red\")\n"
   ]
  },
  {
   "cell_type": "code",
   "execution_count": 115,
   "id": "driving-berry",
   "metadata": {
    "scrolled": false
   },
   "outputs": [
    {
     "data": {
      "text/plain": [
       "[<matplotlib.lines.Line2D at 0x7fefc33c9880>]"
      ]
     },
     "execution_count": 115,
     "metadata": {},
     "output_type": "execute_result"
    },
    {
     "data": {
      "image/png": "[encoded data removed]",
      "text/plain": [
       "<Figure size 432x288 with 1 Axes>"
      ]
     },
     "metadata": {
      "needs_background": "light"
     },
     "output_type": "display_data"
    }
   ],
   "source": [
    "for i in alarms:\n",
    "    if(i > 3000 and i < 5000):\n",
    "        plt.axvline(x=i-3000, color='red', linestyle='-')\n",
    "plt.plot(variableMedian[3000:5000], color=\"blue\")\n",
    "plt.plot(change[3000:5000], color=\"green\")\n"
   ]
  }
 ],
 "metadata": {
  "kernelspec": {
   "display_name": "Python 3",
   "language": "python",
   "name": "python3"
  },
  "language_info": {
   "codemirror_mode": {
    "name": "ipython",
    "version": 3
   },
   "file_extension": ".py",
   "mimetype": "text/x-python",
   "name": "python",
   "nbconvert_exporter": "python",
   "pygments_lexer": "ipython3",
   "version": "3.8.5"
  }
 },
 "nbformat": 4,
 "nbformat_minor": 5
}
