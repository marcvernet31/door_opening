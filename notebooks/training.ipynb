{
 "cells": [
  {
   "cell_type": "code",
   "execution_count": 1,
   "id": "breathing-internship",
   "metadata": {},
   "outputs": [],
   "source": [
    "import pandas as pd\n",
    "from matplotlib import pyplot as plt\n",
    "import numpy as np\n",
    "import time"
   ]
  },
  {
   "cell_type": "code",
   "execution_count": 2,
   "id": "correct-frank",
   "metadata": {
    "scrolled": true
   },
   "outputs": [],
   "source": [
    "door1 = pd.read_csv(\"labeled_door1.csv\")\n"
   ]
  },
  {
   "cell_type": "code",
   "execution_count": 3,
   "id": "later-stereo",
   "metadata": {
    "scrolled": false
   },
   "outputs": [
    {
     "data": {
      "text/html": [
       "<div>\n",
       "<style scoped>\n",
       "    .dataframe tbody tr th:only-of-type {\n",
       "        vertical-align: middle;\n",
       "    }\n",
       "\n",
       "    .dataframe tbody tr th {\n",
       "        vertical-align: top;\n",
       "    }\n",
       "\n",
       "    .dataframe thead th {\n",
       "        text-align: right;\n",
       "    }\n",
       "</style>\n",
       "<table border=\"1\" class=\"dataframe\">\n",
       "  <thead>\n",
       "    <tr style=\"text-align: right;\">\n",
       "      <th></th>\n",
       "      <th>Timestamp</th>\n",
       "      <th>x</th>\n",
       "      <th>y</th>\n",
       "      <th>z</th>\n",
       "      <th>pressure</th>\n",
       "      <th>x_label</th>\n",
       "    </tr>\n",
       "  </thead>\n",
       "  <tbody>\n",
       "    <tr>\n",
       "      <th>0</th>\n",
       "      <td>2975</td>\n",
       "      <td>-9.653112</td>\n",
       "      <td>-9.633959</td>\n",
       "      <td>-9.633959</td>\n",
       "      <td>83.465385</td>\n",
       "      <td>0</td>\n",
       "    </tr>\n",
       "    <tr>\n",
       "      <th>1</th>\n",
       "      <td>3015</td>\n",
       "      <td>-9.653112</td>\n",
       "      <td>-9.633959</td>\n",
       "      <td>-9.633959</td>\n",
       "      <td>83.465782</td>\n",
       "      <td>0</td>\n",
       "    </tr>\n",
       "    <tr>\n",
       "      <th>2</th>\n",
       "      <td>3055</td>\n",
       "      <td>-9.653112</td>\n",
       "      <td>-9.633959</td>\n",
       "      <td>-9.633959</td>\n",
       "      <td>83.465599</td>\n",
       "      <td>0</td>\n",
       "    </tr>\n",
       "    <tr>\n",
       "      <th>3</th>\n",
       "      <td>3095</td>\n",
       "      <td>-9.653112</td>\n",
       "      <td>-9.633959</td>\n",
       "      <td>-9.633959</td>\n",
       "      <td>83.465515</td>\n",
       "      <td>0</td>\n",
       "    </tr>\n",
       "    <tr>\n",
       "      <th>4</th>\n",
       "      <td>3134</td>\n",
       "      <td>-9.653112</td>\n",
       "      <td>-9.633959</td>\n",
       "      <td>-9.633959</td>\n",
       "      <td>83.465507</td>\n",
       "      <td>0</td>\n",
       "    </tr>\n",
       "  </tbody>\n",
       "</table>\n",
       "</div>"
      ],
      "text/plain": [
       "   Timestamp         x         y         z   pressure  x_label\n",
       "0       2975 -9.653112 -9.633959 -9.633959  83.465385        0\n",
       "1       3015 -9.653112 -9.633959 -9.633959  83.465782        0\n",
       "2       3055 -9.653112 -9.633959 -9.633959  83.465599        0\n",
       "3       3095 -9.653112 -9.633959 -9.633959  83.465515        0\n",
       "4       3134 -9.653112 -9.633959 -9.633959  83.465507        0"
      ]
     },
     "execution_count": 3,
     "metadata": {},
     "output_type": "execute_result"
    }
   ],
   "source": [
    "door1.head()"
   ]
  },
  {
   "cell_type": "code",
   "execution_count": 4,
   "id": "approved-somerset",
   "metadata": {},
   "outputs": [],
   "source": [
    "def cummulative_sum(i, variableMedian, gMax, gMin, drift):\n",
    "        s_i = variableMedian[i] - variableMedian[i-1]\n",
    "        gMax_i = max(gMax[i-1] + s_i - drift, 0)\n",
    "        gMin_i = max(gMin[i-1] - s_i - drift, 0)\n",
    "        gMax.append(gMax_i)\n",
    "        gMin.append(gMax_i)\n",
    "                \n",
    "        return gMax_i, gMin_i\n",
    "\n",
    "\n",
    "def alarmLabeling(drift, threshold, var, var_label, varRange):\n",
    "    \n",
    "    x_median = list(var[varRange[0]:varRange[1]])\n",
    "    x_label = list(var_label[varRange[0]:varRange[1]])\n",
    "    \n",
    "\n",
    "    #### CUSUM values #####\n",
    "    x_alarms = list()           # Points where a movement change is detected\n",
    "    x_opening = list()          # Points when an upward movement is detected\n",
    "    x_closing = list()          # Points when an downward movement is detected\n",
    "\n",
    "\n",
    "    x_gMax = list([0]) # internal variables for CUSUM\n",
    "    x_gMin = list([0])\n",
    "\n",
    "\n",
    "    ### STEP Detection ####\n",
    "\n",
    "    #alarmDetected = False\n",
    "    alarmInterval = 10             # Alarms closer than this will be considerated consecutive\n",
    "    x_alarmCounter = 0               # Counter of consecutive alarms\n",
    "    x_change = list([0])                # Cumulative alarms\n",
    "\n",
    "\n",
    "    x_closingDetected = False\n",
    "    x_openingDetected = False\n",
    "    x_lastAlarm = -1                 # Index of last alarm\n",
    "\n",
    "\n",
    "    ### Slope ponderation ####\n",
    "\n",
    "    x_slope = list([0])              # Storing slope\n",
    "    z_slope = list([0])              \n",
    "    y_slope = list([0])    \n",
    "\n",
    "\n",
    "    ### Clean change (remove errors online)\n",
    "\n",
    "    clean_x_change = list()\n",
    "    globalMax_x = 0\n",
    "    globalMin_x = 100000\n",
    "    lastZero_x = 0   # Last zero before movement\n",
    "\n",
    "    coef1 = 1.2\n",
    "    coef2 = 0.5\n",
    "\n",
    "\n",
    "    ## Detect Open/Closed\n",
    "\n",
    "    state_x = \"unknown\"\n",
    "    stateList_x = list([state_x])\n",
    "\n",
    "\n",
    "\n",
    "    falseAlarms = list() # alarm detected when movement isnt labeled\n",
    "    missedAlarms = list() # alarm missed when the movement is labeled\n",
    "    labeledAlarms = list() # alarm labeled as movement\n",
    "    correctAlarms = list()\n",
    "    totalAlarms = 0 # number of  original alarms labelings\n",
    "\n",
    "    for i in range(0, varRange[1]-varRange[0]):\n",
    "\n",
    "\n",
    "        ###### CUSUM intervals #####\n",
    "        # Detect growing and decreasing tendences on the median,\n",
    "        # Results in a list of indexes of changes\n",
    "        if(i != 0): \n",
    "            x_gMax_i, x_gMin_i = cummulative_sum(i, x_median, x_gMax, x_gMin, drift)\n",
    "\n",
    "            x_alarmDetected = x_gMax_i > threshold or x_gMin_i > threshold\n",
    "            if(x_alarmDetected): x_alarms.append(i)\n",
    "\n",
    "            x_openingDetected = x_gMax_i > threshold\n",
    "            if(x_openingDetected): x_opening.append(i)\n",
    "\n",
    "            x_closingDetected = x_gMin_i > threshold\n",
    "            if(x_closingDetected): x_closing.append(i)   \n",
    "\n",
    "\n",
    "\n",
    "        #### Step Detection #####\n",
    "        # Apply ponderation an calculate cumulative movement\n",
    "        if(i != 0):\n",
    "            if(x_openingDetected or x_closingDetected):\n",
    "                x_alarmCounter += 1\n",
    "                x_lastAlarm = i   \n",
    "            elif(x_lastAlarm > i - alarmInterval):  # Interval exceded\n",
    "                x_alarmCounter += 1\n",
    "            else:\n",
    "                x_alarmCounter = 0 \n",
    "\n",
    "            if(x_alarmCounter == 0): x_change.append(0)\n",
    "            else: x_change.append(1)\n",
    "\n",
    "        if(x_label[i] == 0 and x_change[i] == 1): falseAlarms.append(i)\n",
    "        elif(x_label[i] == 1 and x_change[i] == 0): missedAlarms.append(i)\n",
    "        elif(x_label[i] == 1 and x_change[i] == 1): correctAlarms.append(i)\n",
    "\n",
    "        if(x_label[i] == 1): totalAlarms += 1\n",
    "\n",
    "\n",
    "    return falseAlarms, missedAlarms, correctAlarms, totalAlarms"
   ]
  },
  {
   "cell_type": "code",
   "execution_count": 8,
   "id": "rubber-expansion",
   "metadata": {},
   "outputs": [
    {
     "name": "stdout",
     "output_type": "stream",
     "text": [
      "false_alarm:  217\n",
      "missed_alarm:  3225\n",
      "correct alarms:  4946\n",
      "total:  8171\n"
     ]
    }
   ],
   "source": [
    "drift = 0.07              # drift: CUSUM parameter\n",
    "threshold = 0.01          # threshold: CUSUM parameter\n",
    "\n",
    "# colors: \n",
    "# https://matplotlib.org/stable/_images/sphx_glr_named_colors_003_2_0x.png\n",
    "\n",
    "varRange = [0, 500000]\n",
    "\n",
    "var = door1.x\n",
    "var_label = door1.x_label\n",
    "\n",
    "falseAlarms, missedAlarms, correctAlarms, totalAlarms = alarmLabeling(drift, threshold, var, var_label, varRange)\n",
    "\n",
    "print(\"false_alarm: \", len(falseAlarms))\n",
    "print(\"missed_alarm: \", len(missedAlarms))\n",
    "print(\"correct alarms: \", len(correctAlarms))\n",
    "print(\"total: \", totalAlarms)"
   ]
  },
  {
   "cell_type": "code",
   "execution_count": 21,
   "id": "difficult-liberty",
   "metadata": {
    "scrolled": false
   },
   "outputs": [
    {
     "data": {
      "text/plain": [
       "[<matplotlib.lines.Line2D at 0x7fc8a1ca8460>]"
      ]
     },
     "execution_count": 21,
     "metadata": {},
     "output_type": "execute_result"
    },
    {
     "data": {
      "image/png": "[encoded data removed]",
      "text/plain": [
       "<Figure size 432x288 with 1 Axes>"
      ]
     },
     "metadata": {
      "needs_background": "light"
     },
     "output_type": "display_data"
    }
   ],
   "source": [
    "pltRange = [267000, 272000]\n",
    "\n",
    "for i in correctAlarms:\n",
    "    if(i > pltRange[0] and i < pltRange[1]):\n",
    "        plt.axvline(x=i, color='limegreen', linestyle='-')\n",
    "for i in falseAlarms:\n",
    "    if(i > pltRange[0] and i < pltRange[1]):\n",
    "        plt.axvline(x=i, color='red', linestyle='-')\n",
    "\n",
    "for i in missedAlarms:\n",
    "    if(i > pltRange[0] and i < pltRange[1]):\n",
    "        plt.axvline(x=i, color='dodgerblue', linestyle='-')\n",
    "    \n",
    "plt.yticks([])\n",
    "\n",
    "plt.plot(var[pltRange[0]:pltRange[1]], color = \"black\", linewidth=1.9)"
   ]
  },
  {
   "cell_type": "code",
   "execution_count": null,
   "id": "negative-armor",
   "metadata": {},
   "outputs": [],
   "source": [
    "falseAlarms"
   ]
  }
 ],
 "metadata": {
  "kernelspec": {
   "display_name": "Python 3",
   "language": "python",
   "name": "python3"
  },
  "language_info": {
   "codemirror_mode": {
    "name": "ipython",
    "version": 3
   },
   "file_extension": ".py",
   "mimetype": "text/x-python",
   "name": "python",
   "nbconvert_exporter": "python",
   "pygments_lexer": "ipython3",
   "version": "3.8.5"
  }
 },
 "nbformat": 4,
 "nbformat_minor": 5
}
